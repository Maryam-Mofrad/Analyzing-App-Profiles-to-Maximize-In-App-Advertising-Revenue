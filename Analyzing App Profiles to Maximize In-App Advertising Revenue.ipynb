{
 "cells": [
  {
   "cell_type": "markdown",
   "metadata": {},
   "source": [
    "# Analyzing App Profiles to Maximize In-App Advertising Revenue\n"
   ]
  },
  {
   "cell_type": "markdown",
   "metadata": {},
   "source": [
    "In this project, we will explore data to help our company, which develops Android and iOS mobile apps, understand which types of apps are likely to attract the most users. Since our revenue is primarily generated through in-app ads, understanding user preferences and trends is crucial. By analyzing app profiles from Google Play and the App Store, we aim to identify the categories of apps that have the potential to engage the largest audiences.\n",
    "\n",
    "Our ultimate goal is to provide data-driven insights to guide our developers in creating apps that align with user interests and maximize our company's revenue. This project will not only demonstrate our ability to analyze real-world data but also showcase our proficiency in using Python for practical data analysis tasks."
   ]
  },
  {
   "cell_type": "markdown",
   "metadata": {},
   "source": [
    "# Opening and Exploring the Data"
   ]
  },
  {
   "cell_type": "code",
   "execution_count": 1,
   "metadata": {},
   "outputs": [],
   "source": [
    "import csv\n",
    "\n",
    "# Opening the AppleStore.csv dataset\n",
    "with open('AppleStore.csv', encoding='utf8') as file:\n",
    "    ios_apps = list(csv.reader(file))\n",
    "\n",
    "# Opening the googleplaystore.csv dataset\n",
    "with open('googleplaystore.csv', encoding='utf8') as file:\n",
    "    android_apps = list(csv.reader(file))\n"
   ]
  },
  {
   "cell_type": "code",
   "execution_count": 2,
   "metadata": {},
   "outputs": [
    {
     "name": "stdout",
     "output_type": "stream",
     "text": [
      "First few rows of the iOS dataset:\n",
      "['id', 'track_name', 'size_bytes', 'currency', 'price', 'rating_count_tot', 'rating_count_ver', 'user_rating', 'user_rating_ver', 'ver', 'cont_rating', 'prime_genre', 'sup_devices.num', 'ipadSc_urls.num', 'lang.num', 'vpp_lic']\n",
      "\n",
      "\n",
      "['284882215', 'Facebook', '389879808', 'USD', '0.0', '2974676', '212', '3.5', '3.5', '95.0', '4+', 'Social Networking', '37', '1', '29', '1']\n",
      "\n",
      "\n",
      "['389801252', 'Instagram', '113954816', 'USD', '0.0', '2161558', '1289', '4.5', '4.0', '10.23', '12+', 'Photo & Video', '37', '0', '29', '1']\n",
      "\n",
      "\n",
      "['529479190', 'Clash of Clans', '116476928', 'USD', '0.0', '2130805', '579', '4.5', '4.5', '9.24.12', '9+', 'Games', '38', '5', '18', '1']\n",
      "\n",
      "\n",
      "['420009108', 'Temple Run', '65921024', 'USD', '0.0', '1724546', '3842', '4.5', '4.0', '1.6.2', '9+', 'Games', '40', '5', '1', '1']\n",
      "\n",
      "\n",
      "Number of rows: 7198\n",
      "Number of columns: 16\n",
      "First few rows of the Android dataset:\n",
      "['App', 'Category', 'Rating', 'Reviews', 'Size', 'Installs', 'Type', 'Price', 'Content Rating', 'Genres', 'Last Updated', 'Current Ver', 'Android Ver']\n",
      "\n",
      "\n",
      "['Photo Editor & Candy Camera & Grid & ScrapBook', 'ART_AND_DESIGN', '4.1', '159', '19M', '10,000+', 'Free', '0', 'Everyone', 'Art & Design', 'January 7, 2018', '1.0.0', '4.0.3 and up']\n",
      "\n",
      "\n",
      "['Coloring book moana', 'ART_AND_DESIGN', '3.9', '967', '14M', '500,000+', 'Free', '0', 'Everyone', 'Art & Design;Pretend Play', 'January 15, 2018', '2.0.0', '4.0.3 and up']\n",
      "\n",
      "\n",
      "['U Launcher Lite – FREE Live Cool Themes, Hide Apps', 'ART_AND_DESIGN', '4.7', '87510', '8.7M', '5,000,000+', 'Free', '0', 'Everyone', 'Art & Design', 'August 1, 2018', '1.2.4', '4.0.3 and up']\n",
      "\n",
      "\n",
      "['Sketch - Draw & Paint', 'ART_AND_DESIGN', '4.5', '215644', '25M', '50,000,000+', 'Free', '0', 'Teen', 'Art & Design', 'June 8, 2018', 'Varies with device', '4.2 and up']\n",
      "\n",
      "\n",
      "Number of rows: 10842\n",
      "Number of columns: 13\n"
     ]
    }
   ],
   "source": [
    "# Defining the explore_data() function as provided\n",
    "def explore_data(dataset, start, end, rows_and_columns=False):\n",
    "    dataset_slice = dataset[start:end]\n",
    "    for row in dataset_slice:\n",
    "        print(row)\n",
    "        print('\\n') # adds a new (empty) line after each row\n",
    "    \n",
    "    if rows_and_columns:\n",
    "        print('Number of rows:', len(dataset))\n",
    "        print('Number of columns:', len(dataset[0]))\n",
    "\n",
    "# Exploring the first few rows of the iOS dataset\n",
    "print(\"First few rows of the iOS dataset:\")\n",
    "explore_data(ios_apps, 0, 5, rows_and_columns=True)\n",
    "\n",
    "# Exploring the first few rows of the Android dataset\n",
    "print(\"First few rows of the Android dataset:\")\n",
    "explore_data(android_apps, 0, 5, rows_and_columns=True)\n"
   ]
  },
  {
   "cell_type": "code",
   "execution_count": 3,
   "metadata": {},
   "outputs": [
    {
     "name": "stdout",
     "output_type": "stream",
     "text": [
      "iOS dataset column names:\n",
      "['id', 'track_name', 'size_bytes', 'currency', 'price', 'rating_count_tot', 'rating_count_ver', 'user_rating', 'user_rating_ver', 'ver', 'cont_rating', 'prime_genre', 'sup_devices.num', 'ipadSc_urls.num', 'lang.num', 'vpp_lic']\n",
      "Number of ios rows excluding the header\n",
      "7197\n",
      "\n",
      "Android dataset column names:\n",
      "['App', 'Category', 'Rating', 'Reviews', 'Size', 'Installs', 'Type', 'Price', 'Content Rating', 'Genres', 'Last Updated', 'Current Ver', 'Android Ver']\n",
      "Number of android rows excluding the header\n",
      "10841\n"
     ]
    }
   ],
   "source": [
    "# Printing the header row for the iOS dataset\n",
    "ios_header = ios_apps[0]\n",
    "print(\"iOS dataset column names:\")\n",
    "print(ios_header)\n",
    "#removing the header row from the the ios_apps\n",
    "ios_apps = ios_apps[1:]\n",
    "# Number of ios rows excluding the header \n",
    "print(\"Number of ios rows excluding the header\")\n",
    "print(len(ios_apps))\n",
    "\n",
    "# Printing the header row for the Android dataset\n",
    "android_header = android_apps[0]\n",
    "print(\"\\nAndroid dataset column names:\")\n",
    "print(android_header)\n",
    "#removing the header row from the the android_apps\n",
    "android_apps = android_apps[1:]\n",
    "\n",
    "# Number of android rows excluding the header \n",
    "print(\"Number of android rows excluding the header\")\n",
    "print(len(android_apps))"
   ]
  },
  {
   "cell_type": "markdown",
   "metadata": {},
   "source": [
    "We see that the Google Play data set has 10841 apps and 13 columns. At a quick glance, the columns that might be useful for the purpose of our analysis are 'App', 'Category', 'Reviews', 'Installs', 'Type', 'Price', and 'Genres'.\n",
    "\n",
    "We have 7197 iOS apps in this data set, and the columns that seem interesting are: 'track_name', 'currency', 'price', 'rating_count_tot', 'rating_count_ver', and 'prime_genre'. "
   ]
  },
  {
   "cell_type": "markdown",
   "metadata": {},
   "source": [
    "# Deleting Wrong Data\n"
   ]
  },
  {
   "cell_type": "code",
   "execution_count": 4,
   "metadata": {},
   "outputs": [
    {
     "name": "stdout",
     "output_type": "stream",
     "text": [
      "['Life Made WI-Fi Touchscreen Photo Frame', '1.9', '19', '3.0M', '1,000+', 'Free', '0', 'Everyone', '', 'February 11, 2018', '1.0.19', '4.0 and up']\n"
     ]
    }
   ],
   "source": [
    "# Printing the row with the error in the Google Play dataset\n",
    "print(android_apps[10472])\n"
   ]
  },
  {
   "cell_type": "markdown",
   "metadata": {},
   "source": [
    "The Google Play dataset has a dedicated discussion section, and we can see that one of the discussions describes an error for the row 10472 ."
   ]
  },
  {
   "cell_type": "code",
   "execution_count": 5,
   "metadata": {},
   "outputs": [],
   "source": [
    "# Deleting the incorrect row\n",
    "del android_apps[10472]"
   ]
  },
  {
   "cell_type": "code",
   "execution_count": 6,
   "metadata": {
    "scrolled": true
   },
   "outputs": [
    {
     "name": "stdout",
     "output_type": "stream",
     "text": [
      "10840\n"
     ]
    }
   ],
   "source": [
    "#Checking the number of rows remaining in the android dataset\n",
    "print(len(android_apps))"
   ]
  },
  {
   "cell_type": "markdown",
   "metadata": {},
   "source": [
    "# Deleting Duplicates"
   ]
  },
  {
   "cell_type": "code",
   "execution_count": 7,
   "metadata": {
    "scrolled": true
   },
   "outputs": [
    {
     "name": "stdout",
     "output_type": "stream",
     "text": [
      "Number of duplicate apps: 1181\n",
      "Examples of duplicate apps: ['Quick PDF Scanner + OCR FREE', 'Box', 'Google My Business', 'ZOOM Cloud Meetings', 'join.me - Simple Meetings', 'Box', 'Zenefits', 'Google Ads', 'Google My Business', 'Slack']\n"
     ]
    }
   ],
   "source": [
    "# Identifying duplicate entries\n",
    "duplicate_apps = []\n",
    "unique_apps = []\n",
    "\n",
    "for app in android_apps:\n",
    "    name = app[0]\n",
    "    if name in unique_apps:\n",
    "        duplicate_apps.append(name)\n",
    "    else:\n",
    "        unique_apps.append(name)\n",
    "\n",
    "# Printing the number of duplicates\n",
    "print(f\"Number of duplicate apps: {len(duplicate_apps)}\")\n",
    "print(f\"Examples of duplicate apps: {duplicate_apps[:10]}\")\n"
   ]
  },
  {
   "cell_type": "markdown",
   "metadata": {},
   "source": [
    "Once we've identified the duplicates, we'll create a new dataset that includes only the latest entries (those with the highest number of reviews):"
   ]
  },
  {
   "cell_type": "code",
   "execution_count": 8,
   "metadata": {},
   "outputs": [],
   "source": [
    "# Creating a dictionary to store the app name and the highest number of reviews\n",
    "reviews_max = {}\n",
    "\n",
    "for app in android_apps:\n",
    "    name = app[0]\n",
    "    n_reviews = float(app[3])\n",
    "    if name in reviews_max and reviews_max[name] < n_reviews:\n",
    "        reviews_max[name] = n_reviews\n",
    "    elif name not in reviews_max:\n",
    "        reviews_max[name] = n_reviews\n",
    "\n",
    "# Creating a new dataset with only unique entries\n",
    "android_clean = []\n",
    "already_added = []\n",
    "\n",
    "for app in android_apps:\n",
    "    name = app[0]\n",
    "    n_reviews = float(app[3])\n",
    "    \n",
    "    if (reviews_max[name] == n_reviews) and (name not in already_added):\n",
    "        android_clean.append(app)\n",
    "        already_added.append(name)\n"
   ]
  },
  {
   "cell_type": "code",
   "execution_count": 10,
   "metadata": {
    "scrolled": true
   },
   "outputs": [
    {
     "name": "stdout",
     "output_type": "stream",
     "text": [
      "Expected length: 9659\n",
      "\n",
      "['Photo Editor & Candy Camera & Grid & ScrapBook', 'ART_AND_DESIGN', '4.1', '159', '19M', '10,000+', 'Free', '0', 'Everyone', 'Art & Design', 'January 7, 2018', '1.0.0', '4.0.3 and up']\n",
      "\n",
      "\n",
      "['U Launcher Lite – FREE Live Cool Themes, Hide Apps', 'ART_AND_DESIGN', '4.7', '87510', '8.7M', '5,000,000+', 'Free', '0', 'Everyone', 'Art & Design', 'August 1, 2018', '1.2.4', '4.0.3 and up']\n",
      "\n",
      "\n",
      "['Sketch - Draw & Paint', 'ART_AND_DESIGN', '4.5', '215644', '25M', '50,000,000+', 'Free', '0', 'Teen', 'Art & Design', 'June 8, 2018', 'Varies with device', '4.2 and up']\n",
      "\n",
      "\n",
      "['Pixel Draw - Number Art Coloring Book', 'ART_AND_DESIGN', '4.3', '967', '2.8M', '100,000+', 'Free', '0', 'Everyone', 'Art & Design;Creativity', 'June 20, 2018', '1.1', '4.4 and up']\n",
      "\n",
      "\n",
      "['Paper flowers instructions', 'ART_AND_DESIGN', '4.4', '167', '5.6M', '50,000+', 'Free', '0', 'Everyone', 'Art & Design', 'March 26, 2017', '1.0', '2.3 and up']\n",
      "\n",
      "\n",
      "Number of rows: 9659\n",
      "Number of columns: 13\n"
     ]
    }
   ],
   "source": [
    "#exploring the clean dataset and checking the number of columns to be correct\n",
    "print('Expected length:', len(android_apps) - 1181)\n",
    "print()\n",
    "explore_data(android_clean, 0, 5, True)"
   ]
  },
  {
   "cell_type": "markdown",
   "metadata": {},
   "source": [
    "# Removing Non-English Apps\n"
   ]
  },
  {
   "cell_type": "markdown",
   "metadata": {},
   "source": [
    "We use is_english function to filter out the non English apps. With this function, Apps with names containing more than 3 characters not typically used in the English language will be filtered out. \n",
    "The function is_english is  not perfect, and very few non-English apps might get past our filter, but this seems good enough at this point in our analysis."
   ]
  },
  {
   "cell_type": "code",
   "execution_count": 11,
   "metadata": {},
   "outputs": [],
   "source": [
    "# Function to check if the app name is English\n",
    "def is_english(string):\n",
    "    non_ascii = 0\n",
    "    for character in string:\n",
    "        if ord(character) > 127:\n",
    "            non_ascii += 1\n",
    "    if non_ascii > 3:\n",
    "        return False\n",
    "    else:\n",
    "        return True\n",
    "\n",
    "# Filtering out non-English apps\n",
    "android_english = [app for app in android_clean if is_english(app[0])]\n",
    "ios_english = [app for app in ios_apps if is_english(app[1])]"
   ]
  },
  {
   "cell_type": "code",
   "execution_count": 12,
   "metadata": {},
   "outputs": [
    {
     "name": "stdout",
     "output_type": "stream",
     "text": [
      "['Photo Editor & Candy Camera & Grid & ScrapBook', 'ART_AND_DESIGN', '4.1', '159', '19M', '10,000+', 'Free', '0', 'Everyone', 'Art & Design', 'January 7, 2018', '1.0.0', '4.0.3 and up']\n",
      "\n",
      "\n",
      "['U Launcher Lite – FREE Live Cool Themes, Hide Apps', 'ART_AND_DESIGN', '4.7', '87510', '8.7M', '5,000,000+', 'Free', '0', 'Everyone', 'Art & Design', 'August 1, 2018', '1.2.4', '4.0.3 and up']\n",
      "\n",
      "\n",
      "['Sketch - Draw & Paint', 'ART_AND_DESIGN', '4.5', '215644', '25M', '50,000,000+', 'Free', '0', 'Teen', 'Art & Design', 'June 8, 2018', 'Varies with device', '4.2 and up']\n",
      "\n",
      "\n",
      "Number of rows: 9614\n",
      "Number of columns: 13\n",
      "\n",
      "['284882215', 'Facebook', '389879808', 'USD', '0.0', '2974676', '212', '3.5', '3.5', '95.0', '4+', 'Social Networking', '37', '1', '29', '1']\n",
      "\n",
      "\n",
      "['389801252', 'Instagram', '113954816', 'USD', '0.0', '2161558', '1289', '4.5', '4.0', '10.23', '12+', 'Photo & Video', '37', '0', '29', '1']\n",
      "\n",
      "\n",
      "['529479190', 'Clash of Clans', '116476928', 'USD', '0.0', '2130805', '579', '4.5', '4.5', '9.24.12', '9+', 'Games', '38', '5', '18', '1']\n",
      "\n",
      "\n",
      "Number of rows: 6183\n",
      "Number of columns: 16\n"
     ]
    }
   ],
   "source": [
    "explore_data(android_english, 0, 3, True)\n",
    "print()\n",
    "explore_data(ios_english, 0, 3, True)"
   ]
  },
  {
   "cell_type": "markdown",
   "metadata": {},
   "source": [
    "# Filtering Paid Apps"
   ]
  },
  {
   "cell_type": "code",
   "execution_count": 13,
   "metadata": {},
   "outputs": [],
   "source": [
    "# Filtering out paid apps in the Android dataset\n",
    "android_final = [app for app in android_english if app[6] == 'Free']\n",
    "\n",
    "# Filtering out paid apps in the iOS dataset\n",
    "ios_final = [app for app in ios_english if app[4] == '0.0']"
   ]
  },
  {
   "cell_type": "code",
   "execution_count": 18,
   "metadata": {},
   "outputs": [
    {
     "name": "stdout",
     "output_type": "stream",
     "text": [
      "number of android apps= 8863\n",
      "\n",
      "number of ios apps= 3222\n"
     ]
    }
   ],
   "source": [
    "print('number of android apps=',len(android_final))\n",
    "print()\n",
    "print('number of ios apps=',len(ios_final))"
   ]
  },
  {
   "cell_type": "markdown",
   "metadata": {},
   "source": [
    "# Most Common Apps by Genre\n"
   ]
  },
  {
   "cell_type": "markdown",
   "metadata": {},
   "source": [
    "To determine the most common genres in each market, we need to inspect the datasets and identify which columns contain information about the genre or category of the apps.\n",
    "\n",
    "    For the Android dataset (Google Play): The relevant column is 'Genres' (column index 9) and 'Category' (column index 1). Both provide insight into the type of app, but the 'Genres' column can offer more detailed categorization.\n",
    "\n",
    "    For the iOS dataset (App Store): The relevant column is 'prime_genre' (column index 11), which indicates the primary genre of the app"
   ]
  },
  {
   "cell_type": "code",
   "execution_count": 19,
   "metadata": {},
   "outputs": [],
   "source": [
    "#Building Frequency Tables\n",
    "def freq_table(dataset, index):\n",
    "    table = {}\n",
    "    total = len(dataset)\n",
    "    \n",
    "    for row in dataset:\n",
    "        value = row[index]\n",
    "        if value in table:\n",
    "            table[value] += 1\n",
    "        else:\n",
    "            table[value] = 1\n",
    "    \n",
    "    for key in table:\n",
    "        table[key] = (table[key] / total) * 100\n",
    "    \n",
    "    return table"
   ]
  },
  {
   "cell_type": "code",
   "execution_count": 24,
   "metadata": {},
   "outputs": [
    {
     "name": "stdout",
     "output_type": "stream",
     "text": [
      "Google Play Store - Category Frequency Table:\n",
      "FAMILY: 18.90%\n",
      "GAME: 9.73%\n",
      "TOOLS: 8.46%\n",
      "BUSINESS: 4.59%\n",
      "LIFESTYLE: 3.90%\n",
      "PRODUCTIVITY: 3.89%\n",
      "FINANCE: 3.70%\n",
      "MEDICAL: 3.53%\n",
      "SPORTS: 3.40%\n",
      "PERSONALIZATION: 3.32%\n",
      "COMMUNICATION: 3.24%\n",
      "HEALTH_AND_FITNESS: 3.08%\n",
      "PHOTOGRAPHY: 2.94%\n",
      "NEWS_AND_MAGAZINES: 2.80%\n",
      "SOCIAL: 2.66%\n",
      "TRAVEL_AND_LOCAL: 2.34%\n",
      "SHOPPING: 2.25%\n",
      "BOOKS_AND_REFERENCE: 2.14%\n",
      "DATING: 1.86%\n",
      "VIDEO_PLAYERS: 1.79%\n",
      "MAPS_AND_NAVIGATION: 1.40%\n",
      "FOOD_AND_DRINK: 1.24%\n",
      "EDUCATION: 1.16%\n",
      "ENTERTAINMENT: 0.96%\n",
      "LIBRARIES_AND_DEMO: 0.94%\n",
      "AUTO_AND_VEHICLES: 0.93%\n",
      "HOUSE_AND_HOME: 0.82%\n",
      "WEATHER: 0.80%\n",
      "EVENTS: 0.71%\n",
      "PARENTING: 0.65%\n",
      "ART_AND_DESIGN: 0.64%\n",
      "COMICS: 0.62%\n",
      "BEAUTY: 0.60%\n"
     ]
    }
   ],
   "source": [
    "#Displaying Frequency Tables\n",
    "# Frequency table for the Category column in the Google Play dataset in descending  order \n",
    "android_category_freq = freq_table(android_final, 1)\n",
    "print(\"Google Play Store - Category Frequency Table:\")\n",
    "for category in sorted(android_category_freq, key=android_category_freq.get, reverse=True):\n",
    "    print(f\"{category}: {android_category_freq[category]:.2f}%\")\n",
    "    \n"
   ]
  },
  {
   "cell_type": "code",
   "execution_count": 25,
   "metadata": {},
   "outputs": [
    {
     "name": "stdout",
     "output_type": "stream",
     "text": [
      "Google Play Store - Genres Frequency Table:\n",
      "Tools: 8.45%\n",
      "Entertainment: 6.07%\n",
      "Education: 5.35%\n",
      "Business: 4.59%\n",
      "Lifestyle: 3.89%\n",
      "Productivity: 3.89%\n",
      "Finance: 3.70%\n",
      "Medical: 3.53%\n",
      "Sports: 3.46%\n",
      "Personalization: 3.32%\n",
      "Communication: 3.24%\n",
      "Action: 3.10%\n",
      "Health & Fitness: 3.08%\n",
      "Photography: 2.94%\n",
      "News & Magazines: 2.80%\n",
      "Social: 2.66%\n",
      "Travel & Local: 2.32%\n",
      "Shopping: 2.25%\n",
      "Books & Reference: 2.14%\n",
      "Simulation: 2.04%\n",
      "Dating: 1.86%\n",
      "Arcade: 1.85%\n",
      "Video Players & Editors: 1.77%\n",
      "Casual: 1.76%\n",
      "Maps & Navigation: 1.40%\n",
      "Food & Drink: 1.24%\n",
      "Puzzle: 1.13%\n",
      "Racing: 0.99%\n",
      "Libraries & Demo: 0.94%\n",
      "Role Playing: 0.94%\n",
      "Auto & Vehicles: 0.93%\n",
      "Strategy: 0.90%\n",
      "House & Home: 0.82%\n",
      "Weather: 0.80%\n",
      "Events: 0.71%\n",
      "Adventure: 0.68%\n",
      "Comics: 0.61%\n",
      "Art & Design: 0.60%\n",
      "Beauty: 0.60%\n",
      "Parenting: 0.50%\n",
      "Card: 0.45%\n",
      "Casino: 0.43%\n",
      "Trivia: 0.42%\n",
      "Educational;Education: 0.39%\n",
      "Board: 0.38%\n",
      "Educational: 0.37%\n",
      "Education;Education: 0.34%\n",
      "Word: 0.26%\n",
      "Casual;Pretend Play: 0.24%\n",
      "Music: 0.20%\n",
      "Entertainment;Music & Video: 0.17%\n",
      "Puzzle;Brain Games: 0.17%\n",
      "Racing;Action & Adventure: 0.17%\n",
      "Casual;Brain Games: 0.14%\n",
      "Casual;Action & Adventure: 0.14%\n",
      "Arcade;Action & Adventure: 0.12%\n",
      "Action;Action & Adventure: 0.10%\n",
      "Educational;Pretend Play: 0.09%\n",
      "Entertainment;Brain Games: 0.08%\n",
      "Simulation;Action & Adventure: 0.08%\n",
      "Board;Brain Games: 0.08%\n",
      "Parenting;Education: 0.08%\n",
      "Art & Design;Creativity: 0.07%\n",
      "Educational;Brain Games: 0.07%\n",
      "Casual;Creativity: 0.07%\n",
      "Parenting;Music & Video: 0.07%\n",
      "Education;Pretend Play: 0.06%\n",
      "Education;Creativity: 0.05%\n",
      "Role Playing;Pretend Play: 0.05%\n",
      "Education;Brain Games: 0.03%\n",
      "Entertainment;Creativity: 0.03%\n",
      "Educational;Creativity: 0.03%\n",
      "Adventure;Action & Adventure: 0.03%\n",
      "Role Playing;Action & Adventure: 0.03%\n",
      "Educational;Action & Adventure: 0.03%\n",
      "Entertainment;Action & Adventure: 0.03%\n",
      "Puzzle;Action & Adventure: 0.03%\n",
      "Education;Action & Adventure: 0.03%\n",
      "Education;Music & Video: 0.03%\n",
      "Casual;Education: 0.02%\n",
      "Music;Music & Video: 0.02%\n",
      "Simulation;Pretend Play: 0.02%\n",
      "Puzzle;Creativity: 0.02%\n",
      "Sports;Action & Adventure: 0.02%\n",
      "Board;Action & Adventure: 0.02%\n",
      "Entertainment;Pretend Play: 0.02%\n",
      "Video Players & Editors;Music & Video: 0.02%\n",
      "Comics;Creativity: 0.01%\n",
      "Lifestyle;Pretend Play: 0.01%\n",
      "Art & Design;Pretend Play: 0.01%\n",
      "Entertainment;Education: 0.01%\n",
      "Arcade;Pretend Play: 0.01%\n",
      "Art & Design;Action & Adventure: 0.01%\n",
      "Strategy;Action & Adventure: 0.01%\n",
      "Music & Audio;Music & Video: 0.01%\n",
      "Health & Fitness;Education: 0.01%\n",
      "Casual;Music & Video: 0.01%\n",
      "Travel & Local;Action & Adventure: 0.01%\n",
      "Tools;Education: 0.01%\n",
      "Parenting;Brain Games: 0.01%\n",
      "Video Players & Editors;Creativity: 0.01%\n",
      "Health & Fitness;Action & Adventure: 0.01%\n",
      "Trivia;Education: 0.01%\n",
      "Lifestyle;Education: 0.01%\n",
      "Card;Action & Adventure: 0.01%\n",
      "Books & Reference;Education: 0.01%\n",
      "Simulation;Education: 0.01%\n",
      "Puzzle;Education: 0.01%\n",
      "Adventure;Education: 0.01%\n",
      "Role Playing;Brain Games: 0.01%\n",
      "Strategy;Education: 0.01%\n",
      "Racing;Pretend Play: 0.01%\n",
      "Communication;Creativity: 0.01%\n",
      "Strategy;Creativity: 0.01%\n"
     ]
    }
   ],
   "source": [
    "# Frequency table for the Genres column in the Google Play dataset in descending  order\n",
    "android_genres_freq = freq_table(android_final, 9)\n",
    "print(\"Google Play Store - Genres Frequency Table:\")\n",
    "for genre in sorted(android_genres_freq, key=android_genres_freq.get, reverse=True):\n",
    "    print(f\"{genre}: {android_genres_freq[genre]:.2f}%\")\n",
    "\n"
   ]
  },
  {
   "cell_type": "code",
   "execution_count": 28,
   "metadata": {},
   "outputs": [
    {
     "name": "stdout",
     "output_type": "stream",
     "text": [
      "App Store - Prime Genre Frequency Table:\n",
      "Games: 58.16%\n",
      "Entertainment: 7.88%\n",
      "Photo & Video: 4.97%\n",
      "Education: 3.66%\n",
      "Social Networking: 3.29%\n",
      "Shopping: 2.61%\n",
      "Utilities: 2.51%\n",
      "Sports: 2.14%\n",
      "Music: 2.05%\n",
      "Health & Fitness: 2.02%\n",
      "Productivity: 1.74%\n",
      "Lifestyle: 1.58%\n",
      "News: 1.33%\n",
      "Travel: 1.24%\n",
      "Finance: 1.12%\n",
      "Weather: 0.87%\n",
      "Food & Drink: 0.81%\n",
      "Reference: 0.56%\n",
      "Business: 0.53%\n",
      "Book: 0.43%\n",
      "Navigation: 0.19%\n",
      "Medical: 0.19%\n",
      "Catalogs: 0.12%\n"
     ]
    }
   ],
   "source": [
    "# Frequency table for the prime_genre column in the App Store dataset in descending order\n",
    "ios_genre_freq = freq_table(ios_final, 11)\n",
    "print(\"App Store - Prime Genre Frequency Table:\")\n",
    "for genre in sorted(ios_genre_freq, key=ios_genre_freq.get, reverse=True):\n",
    "    print(f\"{genre}: {ios_genre_freq[genre]:.2f}%\")"
   ]
  },
  {
   "cell_type": "markdown",
   "metadata": {},
   "source": [
    "## Most Popular Apps by Genre on the App Store\n"
   ]
  },
  {
   "cell_type": "code",
   "execution_count": 31,
   "metadata": {},
   "outputs": [
    {
     "name": "stdout",
     "output_type": "stream",
     "text": [
      "Social Networking: 71548.35\n",
      "Photo & Video: 28441.54\n",
      "Games: 22788.67\n",
      "Music: 57326.53\n",
      "Reference: 74942.11\n",
      "Health & Fitness: 23298.02\n",
      "Weather: 52279.89\n",
      "Utilities: 18684.46\n",
      "Travel: 28243.80\n",
      "Shopping: 26919.69\n",
      "News: 21248.02\n",
      "Navigation: 86090.33\n",
      "Lifestyle: 16485.76\n",
      "Entertainment: 14029.83\n",
      "Food & Drink: 33333.92\n",
      "Sports: 23008.90\n",
      "Book: 39758.50\n",
      "Finance: 31467.94\n",
      "Education: 7003.98\n",
      "Productivity: 21028.41\n",
      "Business: 7491.12\n",
      "Catalogs: 4004.00\n",
      "Medical: 612.00\n"
     ]
    }
   ],
   "source": [
    "for ios_genre in ios_genre_freq:\n",
    "    total = 0\n",
    "    len_ios_genre = 0\n",
    "    \n",
    "    for app in ios_final:\n",
    "        ios_genre_app = app[11]\n",
    "        if ios_genre_app == ios_genre:\n",
    "            n_ratings = float(app[5])\n",
    "            total += n_ratings\n",
    "            len_ios_genre += 1\n",
    "    \n",
    "    avg_ios_ratings = total / len_ios_genre\n",
    "    print(f\"{ios_genre}: {avg_ios_ratings:.2f}\")\n"
   ]
  },
  {
   "cell_type": "markdown",
   "metadata": {},
   "source": [
    "Top Genres by Average User Ratings\n",
    "Navigation: 86,090.33 average user ratings\n",
    "Reference: 74,942.11 average user ratings\n",
    "Social Networking: 71,548.35 average user ratings\n",
    "Music: 57,326.53 average user ratings\n",
    "Weather: 52,279.89 average user ratings\n",
    "Book: 39,758.50 average user ratings\n",
    "Food & Drink: 33,333.92 average user ratings\n",
    "Finance: 31,467.94 average user ratings\n",
    "Photo & Video: 28,441.54 average user ratings\n",
    "Travel: 28,243.80 average user ratings\n",
    "\n",
    "Analysis and Recommendation\n",
    "Navigation Apps: Navigation apps have the highest average user ratings, suggesting they are highly engaging. If you can develop a navigation app with innovative features or improved user experience, it could perform very well in this category.\n",
    "\n",
    "Reference Apps: These apps also have a high average number of user ratings. A reference app, perhaps something focused on a specific niche (like a comprehensive guide or an educational tool), could attract a significant user base.\n",
    "\n",
    "Social Networking Apps: Social networking apps continue to be a dominant force, with high user engagement. This genre is competitive, but there's always room for innovation, especially in niche communities or specialized social platforms.\n",
    "\n",
    "Music Apps: With a high average of user ratings, music apps also show strong engagement. A new music app could focus on unique features such as music discovery, sharing, or innovative ways to interact with music.\n",
    "\n",
    "Weather Apps: Weather apps have surprisingly high engagement, indicating that users value accurate and detailed weather information. A weather app with personalized features or detailed forecasts might do well.\n",
    "\n",
    "App Profile Recommendation\n",
    "Given the data, a Navigation app or Reference app could be a strategic choice for development. These genres have fewer competitors compared to Games or Social Networking but show high user engagement, which could translate into a solid user base and potentially higher revenue from in-app ads."
   ]
  },
  {
   "cell_type": "markdown",
   "metadata": {},
   "source": [
    "# Most Popular Apps by Genre on Google Play"
   ]
  },
  {
   "cell_type": "code",
   "execution_count": 43,
   "metadata": {},
   "outputs": [
    {
     "name": "stdout",
     "output_type": "stream",
     "text": [
      "1,000,000+ : 15.728308699086089\n",
      "100,000+ : 11.55365000564143\n",
      "10,000,000+ : 10.549475346947986\n",
      "10,000+ : 10.199706645605326\n",
      "1,000+ : 8.394448832223853\n",
      "100+ : 6.916393997517771\n",
      "5,000,000+ : 6.826131106848697\n",
      "500,000+ : 5.562450637481666\n",
      "50,000+ : 4.772650344127271\n",
      "5,000+ : 4.513144533453684\n",
      "10+ : 3.542818458761142\n",
      "500+ : 3.2494640640866526\n",
      "50,000,000+ : 2.3017037120613786\n",
      "100,000,000+ : 2.1324607920568655\n",
      "50+ : 1.9180864267178157\n",
      "5+ : 0.7898002933543946\n",
      "1+ : 0.5077287600135394\n",
      "500,000,000+ : 0.270788672007221\n",
      "1,000,000,000+ : 0.2256572266726842\n",
      "0+ : 0.045131445334536835\n"
     ]
    }
   ],
   "source": [
    "display_table(android_final, 5) # the Installs columns\n"
   ]
  },
  {
   "cell_type": "code",
   "execution_count": 45,
   "metadata": {},
   "outputs": [
    {
     "name": "stdout",
     "output_type": "stream",
     "text": [
      "ART_AND_DESIGN: 1986335.09\n",
      "AUTO_AND_VEHICLES: 647317.82\n",
      "BEAUTY: 513151.89\n",
      "BOOKS_AND_REFERENCE: 8767811.89\n",
      "BUSINESS: 1712290.15\n",
      "COMICS: 817657.27\n",
      "COMMUNICATION: 38456119.17\n",
      "DATING: 854028.83\n",
      "EDUCATION: 1833495.15\n",
      "ENTERTAINMENT: 11640705.88\n",
      "EVENTS: 253542.22\n",
      "FINANCE: 1387692.48\n",
      "FOOD_AND_DRINK: 1924897.74\n",
      "HEALTH_AND_FITNESS: 4188821.99\n",
      "HOUSE_AND_HOME: 1331540.56\n",
      "LIBRARIES_AND_DEMO: 638503.73\n",
      "LIFESTYLE: 1437816.27\n",
      "GAME: 15588015.60\n",
      "FAMILY: 3697848.17\n",
      "MEDICAL: 120550.62\n",
      "SOCIAL: 23253652.13\n",
      "SHOPPING: 7036877.31\n",
      "PHOTOGRAPHY: 17840110.40\n",
      "SPORTS: 3638640.14\n",
      "TRAVEL_AND_LOCAL: 13984077.71\n",
      "TOOLS: 10801391.30\n",
      "PERSONALIZATION: 5201482.61\n",
      "PRODUCTIVITY: 16787331.34\n",
      "PARENTING: 542603.62\n",
      "WEATHER: 5074486.20\n",
      "VIDEO_PLAYERS: 24727872.45\n",
      "NEWS_AND_MAGAZINES: 9549178.47\n",
      "MAPS_AND_NAVIGATION: 4056941.77\n"
     ]
    }
   ],
   "source": [
    "for category in android_category_freq:\n",
    "    total = 0\n",
    "    len_category = 0\n",
    "    \n",
    "    for app in android_final:\n",
    "        category_app = app[1]\n",
    "        if category_app == category:\n",
    "            n_installs = app[5]\n",
    "            # Remove any commas and plus signs, and convert to a float\n",
    "            n_installs = n_installs.replace(',', '').replace('+', '')\n",
    "            n_installs = float(n_installs)\n",
    "            total += n_installs\n",
    "            len_category += 1\n",
    "    \n",
    "    avg_installs = total / len_category\n",
    "    print(f\"{category}: {avg_installs:.2f}\")\n"
   ]
  },
  {
   "cell_type": "markdown",
   "metadata": {},
   "source": [
    "Analysis and App Profile Recommendation\n",
    "Here are a few observations:\n",
    "\n",
    "Communication: This category has the highest average number of installs (38,456,119), indicating that communication apps are extremely popular. However, this category is likely very competitive.\n",
    "\n",
    "Video Players: With an average of 24,727,872 installs, video players are also highly popular. A new video player app could be successful if it offers unique features or improved user experience.\n",
    "\n",
    "Social: Social apps have an average of 23,253,652 installs, showing that they attract a large number of users. This category also aligns with the high user engagement seen in the App Store's Social Networking genre.\n",
    "\n",
    "Photography: This category has an average of 17,840,110 installs, indicating that photography apps are widely used. Developing a photography app could be a good opportunity, especially if it offers innovative editing tools or social sharing capabilities.\n",
    "\n",
    "Entertainment and Games: Both categories show strong engagement, with average installs of 11,640,705 and 15,588,015, respectively. Entertainment apps, including games, are always in demand, but this is also a highly competitive space."
   ]
  },
  {
   "cell_type": "markdown",
   "metadata": {},
   "source": [
    "# Final Recommendation\n"
   ]
  },
  {
   "cell_type": "markdown",
   "metadata": {},
   "source": [
    "Based on the analysis of both the App Store and Google Play Store datasets, here are the recommended app categories for development:\n",
    "\n",
    "1. Navigation Apps\n",
    "App Store Insight: Navigation apps have the highest average user ratings, with an average of 86,090.33 ratings per app. This indicates strong user engagement and satisfaction, suggesting that users value high-quality navigation apps.\n",
    "Recommendation: Developing a navigation app that offers innovative features, such as real-time traffic updates, offline maps, or integration with other services (e.g., ride-sharing or weather forecasting), could attract a large and loyal user base.\n",
    "2. Reference Apps\n",
    "App Store Insight: Reference apps also show a high average number of user ratings, at 74,942.11 ratings per app. This category is less saturated than others like games or social networking but still demonstrates significant user engagement.\n",
    "Recommendation: A reference app focusing on a niche area (e.g., language learning, medical references, or DIY guides) could fill a gap in the market and attract users looking for specific, high-quality information.\n",
    "3. Social Networking Apps\n",
    "Cross-Market Insight: Social networking apps are highly popular across both platforms, with an average of 71,548.35 ratings on the App Store and 23,253,652 installs on Google Play. This category is highly competitive, but there's still potential for growth, especially if the app offers a unique value proposition or targets a specific niche.\n",
    "Recommendation: Consider developing a social networking app that caters to a specific community or integrates new, engaging features like augmented reality (AR), real-time collaboration, or privacy-focused social interactions.\n",
    "4. Photography Apps\n",
    "Cross-Market Insight: Photography apps have a strong presence on both platforms, with 28,441.54 average ratings on the App Store and 17,840,110 average installs on Google Play. The widespread use of smartphones with advanced cameras drives the demand for apps that offer photo editing, sharing, and creative tools.\n",
    "Recommendation: A photography app that combines powerful editing features with social sharing capabilities could stand out in this category. Consider adding features like AI-driven enhancements, filters, or community-driven content to increase user engagement.\n",
    "5. Video Players and Editors\n",
    "Google Play Insight: Video players and editors have an average of 24,727,872 installs, indicating high popularity. Users increasingly consume and create video content on mobile devices, driving demand for apps that offer robust video editing and playback features.\n",
    "Recommendation: Developing a video player or editor app with unique functionalities—such as cloud integration, multi-platform support, or advanced editing tools—could attract a large user base. Consider including features like easy social media sharing, subtitle support, or streaming capabilities to enhance user experience.\n",
    "Conclusion\n",
    "For a company looking to maximize in-app advertising revenue, focusing on Navigation, Reference, Social Networking, Photography, or Video Player/Editor apps would be a strategic choice. These categories show strong user engagement across both the App Store and Google Play, offering a balance of high user ratings, download volumes, and potential for innovation. By developing apps in these categories, the company can tap into large, engaged audiences and increase its revenue through targeted in-app ads."
   ]
  }
 ],
 "metadata": {
  "kernelspec": {
   "display_name": "Python 3",
   "language": "python",
   "name": "python3"
  },
  "language_info": {
   "codemirror_mode": {
    "name": "ipython",
    "version": 3
   },
   "file_extension": ".py",
   "mimetype": "text/x-python",
   "name": "python",
   "nbconvert_exporter": "python",
   "pygments_lexer": "ipython3",
   "version": "3.8.2"
  }
 },
 "nbformat": 4,
 "nbformat_minor": 2
}
